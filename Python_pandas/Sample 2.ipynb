{
 "cells": [
  {
   "cell_type": "code",
   "execution_count": 12,
   "metadata": {},
   "outputs": [],
   "source": [
    "import pandas as pd"
   ]
  },
  {
   "cell_type": "code",
   "execution_count": 13,
   "metadata": {},
   "outputs": [],
   "source": [
    "CDRData = pd.read_excel('C:\\\\Users\\\\phani\\\\OneDrive\\\\Desktop\\\\CDR Report.xlsx')"
   ]
  },
  {
   "cell_type": "code",
   "execution_count": 14,
   "metadata": {},
   "outputs": [
    {
     "name": "stdout",
     "output_type": "stream",
     "text": [
      "       IDRSSD  FDIC Certificate Number  OCC Charter Number  OTS Docket Number  \\\n",
      "0          37                    10057                   0              16553   \n",
      "1         242                     3850                   0                  0   \n",
      "2         279                    28868                   0               2523   \n",
      "3         354                    14083                   0                  0   \n",
      "4         457                    10202                   0                  0   \n",
      "...       ...                      ...                 ...                ...   \n",
      "5045  5472880                    59209                   0                  0   \n",
      "5046  5475452                    59181                   0                  0   \n",
      "5047  5514409                    59205                   0                  0   \n",
      "5048  5518023                    59190               25147                  0   \n",
      "5049  5538937                    59219                   0                  0   \n",
      "\n",
      "      Primary ABA Routing Number        Financial Institution Name  \\\n",
      "0                       61107146            BANK OF HANCOCK COUNTY   \n",
      "1                       81220537  FIRST COMMUNITY BANK XENIA-FLORA   \n",
      "2                      311972526       MINEOLA COMMUNITY BANK, SSB   \n",
      "3                      101107475                  BISON STATE BANK   \n",
      "4                       91208332                  LOWRY STATE BANK   \n",
      "...                          ...                               ...   \n",
      "5045                    61021471                        CRAFT BANK   \n",
      "5046                    67016972                GULF ATLANTIC BANK   \n",
      "5047                   124385355                       NELNET BANK   \n",
      "5048                   124303201   VARO BANK, NATIONAL ASSOCIATION   \n",
      "5049                    61121481                 CLASSIC CITY BANK   \n",
      "\n",
      "              Financial Institution Address Financial Institution City  \\\n",
      "0                       12855 BROAD STREET                      SPARTA   \n",
      "1                         260 FRONT STREET                       XENIA   \n",
      "2                              215 W BROAD                     MINEOLA   \n",
      "3                          223 MAIN STREET                       BISON   \n",
      "4                        400 FLORENCE AVE.                       LOWRY   \n",
      "...                                     ...                        ...   \n",
      "5045       1575 NORTHSIDE DRIVE, SUITE 200                     ATLANTA   \n",
      "5046        2222 NORTH ROOSEVELT BOULEVARD                    KEY WEST   \n",
      "5047       13907 S MINUTEMAN DR, SUITE 250                      DRAPER   \n",
      "5048  11781 S LONE PEAK PARKWAY, SUITE 100                      DRAPER   \n",
      "5049                2361 WEST BROAD STREET                      ATHENS   \n",
      "\n",
      "     Financial Institution State  Financial Institution Zip Code  \\\n",
      "0                             GA                           31087   \n",
      "1                             IL                           62899   \n",
      "2                             TX                           75773   \n",
      "3                             KS                           67520   \n",
      "4                             MN                           56349   \n",
      "...                          ...                             ...   \n",
      "5045                          GA                           30318   \n",
      "5046                          FL                           33040   \n",
      "5047                          UT                           84020   \n",
      "5048                          UT                           84020   \n",
      "5049                          GA                           30606   \n",
      "\n",
      "      Financial Institution Filing Type Last Date/Time Submission Updated On  \n",
      "0                                    51                  2021-01-12T09:01:20  \n",
      "1                                    51                  2021-01-26T10:15:22  \n",
      "2                                    51                  2021-03-12T17:17:27  \n",
      "3                                    51                  2021-01-30T00:33:34  \n",
      "4                                    51                  2021-01-23T23:50:39  \n",
      "...                                 ...                                  ...  \n",
      "5045                                 51                  2021-01-28T16:59:07  \n",
      "5046                                 51                  2021-02-02T15:25:14  \n",
      "5047                                 51                  2021-01-28T17:27:23  \n",
      "5048                                 51                  2021-01-29T12:07:21  \n",
      "5049                                 51                  2021-01-29T08:05:58  \n",
      "\n",
      "[5050 rows x 12 columns]\n"
     ]
    }
   ],
   "source": [
    "print (CDRData)"
   ]
  },
  {
   "cell_type": "code",
   "execution_count": 15,
   "metadata": {},
   "outputs": [],
   "source": [
    "from sqlalchemy import create_engine"
   ]
  },
  {
   "cell_type": "code",
   "execution_count": 16,
   "metadata": {},
   "outputs": [
    {
     "name": "stdout",
     "output_type": "stream",
     "text": [
      "Requirement already satisfied: pymssql in e:\\anaconda\\lib\\site-packages (2.2.1)\n",
      "Note: you may need to restart the kernel to use updated packages.\n"
     ]
    }
   ],
   "source": [
    "pip install pymssql"
   ]
  },
  {
   "cell_type": "code",
   "execution_count": 17,
   "metadata": {},
   "outputs": [],
   "source": [
    "engine = create_engine('mssql+pymssql://NIHAR-SCIENTIST:1433/avengers')"
   ]
  },
  {
   "cell_type": "code",
   "execution_count": 18,
   "metadata": {},
   "outputs": [],
   "source": [
    "CDRData.to_sql('CDR_DATA', engine, 'dbo', 'replace', False)"
   ]
  },
  {
   "cell_type": "code",
   "execution_count": null,
   "metadata": {},
   "outputs": [],
   "source": []
  }
 ],
 "metadata": {
  "kernelspec": {
   "display_name": "Python 3",
   "language": "python",
   "name": "python3"
  },
  "language_info": {
   "codemirror_mode": {
    "name": "ipython",
    "version": 3
   },
   "file_extension": ".py",
   "mimetype": "text/x-python",
   "name": "python",
   "nbconvert_exporter": "python",
   "pygments_lexer": "ipython3",
   "version": "3.8.3"
  }
 },
 "nbformat": 4,
 "nbformat_minor": 4
}
